{
 "cells": [
  {
   "cell_type": "markdown",
   "id": "2954037e",
   "metadata": {},
   "source": [
    "# Контрольные задачи\n",
    "## Выполнил студент группы БСТ2002 Пресняков Данил Русланович"
   ]
  },
  {
   "cell_type": "markdown",
   "id": "5c553aad",
   "metadata": {},
   "source": [
    "## Задание №1\n",
    "## «Треугольник с максимальным периметром»\n",
    "### Массив A состоит из целых положительных чисел - длин отрезков. Составьте из трех отрезков такой треугольник, чтобы его периметр был максимально возможным. Если невозможно составить треугольник с положительной площадью - функция возвращает 0."
   ]
  },
  {
   "cell_type": "code",
   "execution_count": 1,
   "id": "0a218549",
   "metadata": {},
   "outputs": [
    {
     "name": "stdout",
     "output_type": "stream",
     "text": [
      "Задача №1\n",
      "5\n",
      "0\n",
      "10\n",
      "8\n"
     ]
    }
   ],
   "source": [
    "def max_Perimeter(arr):\n",
    "    arr.sort()\n",
    "    for i in range(len(arr) - 3,-1,-1):\n",
    "        if arr[i] + arr[i + 1] > arr[i + 2]:\n",
    "            return arr[i] + arr[i + 1] + arr[i + 2]\n",
    "    return 0\n",
    "print('Задача №1')\n",
    "arr = [2, 1, 2]\n",
    "print (max_Perimeter(arr))\n",
    "\n",
    "arr = [1,2,1]\n",
    "print (max_Perimeter(arr))\n",
    "\n",
    "arr = [3,2,3,4]\n",
    "print (max_Perimeter(arr))\n",
    "\n",
    "arr = [3,6,2,3]\n",
    "print (max_Perimeter(arr))"
   ]
  },
  {
   "cell_type": "markdown",
   "id": "3e840f41",
   "metadata": {},
   "source": [
    "## Задание №2\n",
    "## «Максимальное число»\n",
    "### Дан массив неотрицательных целых чисел nums. Расположите их в таком порядке, чтобы вместе они образовали максимально возможное число."
   ]
  },
  {
   "cell_type": "code",
   "execution_count": 2,
   "id": "7c37e980",
   "metadata": {},
   "outputs": [
    {
     "name": "stdout",
     "output_type": "stream",
     "text": [
      "\n",
      "\n",
      "Задача №2\n",
      "210\n",
      "9534330\n",
      "1\n",
      "10\n"
     ]
    }
   ],
   "source": [
    "def dualComp(a, b):\n",
    "    ab = int(str(a) + str(b))\n",
    "    ba = int(str(b) + str(a))\n",
    "    if ab > ba:\n",
    "        return True\n",
    "    else:\n",
    "        return False\n",
    "\n",
    "\n",
    "def sortArr(arr):\n",
    "    for i in range(len(arr) - 1):\n",
    "        max = i\n",
    "        for j in range(i + 1, len(arr)):\n",
    "            if not dualComp(arr[max], arr[j]):\n",
    "                max = j\n",
    "        arr[i], arr[max] = arr[max], arr[i]\n",
    "\n",
    "\n",
    "def max_Number(nums):\n",
    "    sortArr(nums)\n",
    "    return ''.join(str(e) for e in nums)\n",
    "\n",
    "print('\\n')\n",
    "print('Задача №2')\n",
    "print(max_Number([10,2]))\n",
    "print(max_Number([3,30,34,5,9]))\n",
    "print(max_Number([1]))\n",
    "print(max_Number([10]))"
   ]
  }
 ],
 "metadata": {
  "kernelspec": {
   "display_name": "Python 3 (ipykernel)",
   "language": "python",
   "name": "python3"
  },
  "language_info": {
   "codemirror_mode": {
    "name": "ipython",
    "version": 3
   },
   "file_extension": ".py",
   "mimetype": "text/x-python",
   "name": "python",
   "nbconvert_exporter": "python",
   "pygments_lexer": "ipython3",
   "version": "3.10.2"
  }
 },
 "nbformat": 4,
 "nbformat_minor": 5
}
